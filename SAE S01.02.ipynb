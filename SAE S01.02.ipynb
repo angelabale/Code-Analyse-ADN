{
 "cells": [
  {
   "cell_type": "markdown",
   "id": "b0e96976",
   "metadata": {},
   "source": [
    "# SAE S01.02"
   ]
  },
  {
   "cell_type": "markdown",
   "id": "9b69addf",
   "metadata": {},
   "source": [
    "## Partie 1"
   ]
  },
  {
   "cell_type": "markdown",
   "id": "f504d7e1",
   "metadata": {},
   "source": [
    "### Question 1"
   ]
  },
  {
   "cell_type": "code",
   "execution_count": 40,
   "id": "a779b082",
   "metadata": {},
   "outputs": [],
   "source": [
    "def est_base(x):\n",
    "    if x in \"ATCG\":\n",
    "        return True\n",
    "    else :\n",
    "        return False"
   ]
  },
  {
   "cell_type": "code",
   "execution_count": 41,
   "id": "585a4e8d",
   "metadata": {},
   "outputs": [
    {
     "name": "stdout",
     "output_type": "stream",
     "text": [
      "test ok\n"
     ]
    }
   ],
   "source": [
    "def test_est_base():\n",
    "    assert est_base(\"A\") == True\n",
    "    assert est_base(\"T\") == True\n",
    "    assert est_base(\"Z\") == False\n",
    "    print(\"test ok\")\n",
    "    \n",
    "test_est_base()"
   ]
  },
  {
   "cell_type": "markdown",
   "id": "e5b3ca81",
   "metadata": {},
   "source": [
    "### Question 2"
   ]
  },
  {
   "cell_type": "code",
   "execution_count": 42,
   "id": "254ab4cf",
   "metadata": {},
   "outputs": [],
   "source": [
    "def est_adn(x):\n",
    "    i = 0\n",
    "    while i <= len(x)-1:\n",
    "        if x[i] in \"ATCG\":\n",
    "            i += 1\n",
    "        else :\n",
    "            return False\n",
    "    return True"
   ]
  },
  {
   "cell_type": "code",
   "execution_count": 43,
   "id": "7d3b1db2",
   "metadata": {},
   "outputs": [
    {
     "name": "stdout",
     "output_type": "stream",
     "text": [
      "test ok\n"
     ]
    }
   ],
   "source": [
    "def test_est_adn():\n",
    "    assert est_adn(\"ATGTCAAA\") == True\n",
    "    assert est_adn(\"ATBOAATG\") == False\n",
    "    print(\"test ok\")\n",
    "\n",
    "test_est_adn()"
   ]
  },
  {
   "cell_type": "markdown",
   "id": "6a51e214",
   "metadata": {},
   "source": [
    "### Question 3"
   ]
  },
  {
   "cell_type": "code",
   "execution_count": 44,
   "id": "1ffe9789",
   "metadata": {},
   "outputs": [],
   "source": [
    "def arn(x):\n",
    "    if est_adn(x):\n",
    "        arn = x.replace(\"T\",\"U\")\n",
    "        return arn\n",
    "    else :\n",
    "        return None "
   ]
  },
  {
   "cell_type": "code",
   "execution_count": 45,
   "id": "d8292b4d",
   "metadata": {},
   "outputs": [
    {
     "name": "stdout",
     "output_type": "stream",
     "text": [
      "test ok\n"
     ]
    }
   ],
   "source": [
    "def test_arn():\n",
    "    assert arn(\"ATTGCA\")==\"AUUGCA\"\n",
    "    assert arn(\"ATBOAATG\")== None\n",
    "    print(\"test ok\")\n",
    "    \n",
    "test_arn()"
   ]
  },
  {
   "cell_type": "markdown",
   "id": "6fe8f9b1",
   "metadata": {},
   "source": [
    "### Question 4"
   ]
  },
  {
   "cell_type": "code",
   "execution_count": 46,
   "id": "8afb59e6",
   "metadata": {},
   "outputs": [],
   "source": [
    "def arn_to_codons(x):\n",
    "    tab = []\n",
    "    for i in range(0, len(x), 3) :\n",
    "        codon = x[i:i+3]\n",
    "        tab.append(codon)\n",
    "    if len(x) % 3 == 0:\n",
    "        return tab\n",
    "    else :\n",
    "        x = len(tab)\n",
    "        del(tab[x-1])\n",
    "        return tab"
   ]
  },
  {
   "cell_type": "code",
   "execution_count": 47,
   "id": "3bd0bc61",
   "metadata": {},
   "outputs": [
    {
     "name": "stdout",
     "output_type": "stream",
     "text": [
      "test ok\n"
     ]
    }
   ],
   "source": [
    "def test_arn_to_codons():\n",
    "    assert arn_to_codons(\"CGUUAGGGG\") == [\"CGU\", \"UAG\", \"GGG\"]\n",
    "    assert arn_to_codons(\"CGUAAU\") == [\"CGU\", \"AAU\"]\n",
    "    assert arn_to_codons(\"CGUAAUGC\") == [\"CGU\", \"AAU\"]\n",
    "    print(\"test ok\")\n",
    "\n",
    "test_arn_to_codons()"
   ]
  },
  {
   "cell_type": "markdown",
   "id": "35b567d6",
   "metadata": {},
   "source": [
    "### Question 5"
   ]
  },
  {
   "cell_type": "code",
   "execution_count": 4,
   "id": "e4e2cc7b",
   "metadata": {},
   "outputs": [
    {
     "name": "stdout",
     "output_type": "stream",
     "text": [
      "{'UUU': 'Phenylalanine', 'UUC': 'Phenylalanine', 'UUA': 'Leucine', 'UUG': 'Leucine', 'CUU': 'Leucine', 'CUC': 'Leucine', 'CUA': 'Leucine', 'CUG': 'Leucine', 'AUU': 'Isoleucine', 'AUC': 'Isoleucine', 'AUA': 'Methionine', 'AUG': 'Methionine', 'GUU': 'Valine', 'GUC': 'Valine', 'GUA': 'Valine', 'GUG': 'Valine', 'UCU': 'Serine', 'UCC': 'Serine', 'UCA': 'Serine', 'UCG': 'Serine', 'CCU': 'Proline', 'CCC': 'Proline', 'CCA': 'Proline', 'CCG': 'Proline', 'ACU': 'Threonine', 'ACC': 'Threonine', 'ACA': 'Threonine', 'ACG': 'Threonine', 'GCU': 'Alanine', 'GCC': 'Alanine', 'GCA': 'Alanine', 'GCG': 'Alanine', 'UAU': 'Tyrosine', 'UAC': 'Tyrosine', 'CAU': 'Histidine', 'CAC': 'Histidine', 'CAA': 'Glutamine', 'CAG': 'Glutamine', 'AAU': 'Asparagine', 'AAC': 'Asparagine', 'AAA': 'Lysine', 'AAG': 'Lysine', 'GAU': 'Aspartic acid', 'GAC': 'Aspartic acid', 'GAA': 'Glutamic acid', 'GAG': 'Glutamic acid', 'UGU': 'Cysteine', 'UGC': 'Cysteine', 'UGA': 'Tryptophan', 'UGG': 'Tryptophan', 'CGU': 'Arginine', 'CGC': 'Arginine', 'CGA': 'Arginine', 'CGG': 'Arginine', 'AGU': 'Serine', 'AGC': 'Serine', 'GGU': 'Glycine', 'GGC': 'Glycine', 'GGA': 'Glycine', 'GGG': 'Glycine'}\n"
     ]
    }
   ],
   "source": [
    "from json import *\n",
    "def load_dico_codons_aa(x):\n",
    "    fichier = open (x,\"r\")\n",
    "    strjson = fichier.read()\n",
    "    fichier.close()\n",
    "    codonaa = loads(strjson)\n",
    "    return codonaa\n",
    "\n",
    "codonaa = load_dico_codons_aa(\"./codons_aa.json\")\n",
    "print(codonaa)"
   ]
  },
  {
   "cell_type": "code",
   "execution_count": 5,
   "id": "b08294f6",
   "metadata": {},
   "outputs": [
    {
     "name": "stdout",
     "output_type": "stream",
     "text": [
      "['AGA', 'AGG', 'UAA', 'UAG']\n"
     ]
    }
   ],
   "source": [
    "from itertools import product\n",
    "\n",
    "def codons_stop(x):\n",
    "    codons = []\n",
    "    codonsstop = []\n",
    "    t = list(x)\n",
    "    L = [\"A\", \"U\", \"G\", \"C\"]\n",
    "    for i in product(L, repeat=3):\n",
    "        codons.append(i)\n",
    "    k = 0\n",
    "    while k < len(codons):\n",
    "        s = \"\"\n",
    "        j = 0\n",
    "        while j < len(codons[k]):\n",
    "            s += codons[k][j]\n",
    "            j += 1\n",
    "        if s not in t:\n",
    "            codonsstop.append(s)\n",
    "        k += 1\n",
    "    return codonsstop\n",
    "\n",
    "codonaa = load_dico_codons_aa(\"./codons_aa.json\")\n",
    "print(codons_stop(codonaa))"
   ]
  },
  {
   "cell_type": "markdown",
   "id": "eb072460",
   "metadata": {},
   "source": [
    "### Question 6"
   ]
  },
  {
   "cell_type": "code",
   "execution_count": 6,
   "id": "f5a1907d",
   "metadata": {},
   "outputs": [],
   "source": [
    "def codons_to_aa(codons, codonaa):\n",
    "    tab = []\n",
    "    i = 0\n",
    "    while i < len(codons) and codons[i] in codonaa :\n",
    "            aa = codonaa[codons[i]]\n",
    "            tab.append(aa)\n",
    "            i += 1\n",
    "    return tab"
   ]
  },
  {
   "cell_type": "code",
   "execution_count": 10,
   "id": "0da914e4",
   "metadata": {},
   "outputs": [
    {
     "name": "stdout",
     "output_type": "stream",
     "text": [
      "test ok\n"
     ]
    }
   ],
   "source": [
    "def test_codons_to_aa():\n",
    "    assert codons_to_aa([\"CGU\", \"AAU\", \"UAA\", \"GGG\", \"CGU\"], codonaa) == [\"Arginine\", \"Asparagine\"] \n",
    "    assert codons_to_aa([\"AUC\", \"UAA\", \"UUG\"], codonaa) == [\"Isoleucine\"]\n",
    "    assert codons_to_aa([\"UCG\", \"CCU\", \"UAA\", \"ACA\"], codonaa) == [\"Serine\", \"Proline\"]\n",
    "    print(\"test ok\")\n",
    "\n",
    "test_codons_to_aa()"
   ]
  },
  {
   "cell_type": "markdown",
   "id": "efdcf9e8",
   "metadata": {},
   "source": [
    "## Partie 2"
   ]
  },
  {
   "cell_type": "markdown",
   "id": "99bd15d0",
   "metadata": {},
   "source": [
    "### Question 1"
   ]
  },
  {
   "cell_type": "code",
   "execution_count": 52,
   "id": "e003c5bf",
   "metadata": {},
   "outputs": [],
   "source": [
    "def nextIndice(tab, ind, elements):\n",
    "    i = ind\n",
    "    while i < len(tab) :\n",
    "        if tab[i] in elements:\n",
    "            return i\n",
    "        i += 1\n",
    "    return len(tab)"
   ]
  },
  {
   "cell_type": "code",
   "execution_count": 53,
   "id": "2f8bdf2d",
   "metadata": {},
   "outputs": [
    {
     "name": "stdout",
     "output_type": "stream",
     "text": [
      "test ok\n"
     ]
    }
   ],
   "source": [
    "def test_nextIndice():\n",
    "    assert nextIndice([\"bonjour\", \"hello\", \"buongiorno\", \"ciao\", \"bye\"], 3, [\"hello\", \"bye\"]) == 4\n",
    "    assert nextIndice([\"hi\", \"yes\"], 2, [\"no\", \"how\"]) == 2\n",
    "    assert nextIndice([\"bonjour\", \"hello\", \"buongiorno\", \"ciao\", \"bye\"], 0, [\"hello\", \"bye\"]) == 1\n",
    "    print(\"test ok\")\n",
    "    \n",
    "test_nextIndice()"
   ]
  },
  {
   "cell_type": "markdown",
   "id": "aac0cc6e",
   "metadata": {},
   "source": [
    "### Question 2"
   ]
  },
  {
   "cell_type": "code",
   "execution_count": 54,
   "id": "d8a33450",
   "metadata": {},
   "outputs": [],
   "source": [
    "def decoupe_sequence(seq, start, stop):\n",
    "    tab = []\n",
    "    i = 0\n",
    "    while i < len(seq):\n",
    "        y = []\n",
    "        if seq[i] in start :\n",
    "            i += 1\n",
    "            while seq[i] not in stop :\n",
    "                y.append(seq[i])\n",
    "                i += 1\n",
    "            tab.append(y)\n",
    "        else :\n",
    "            i += 1\n",
    "    return tab"
   ]
  },
  {
   "cell_type": "code",
   "execution_count": 55,
   "id": "d10fe711",
   "metadata": {},
   "outputs": [
    {
     "name": "stdout",
     "output_type": "stream",
     "text": [
      "test ok\n"
     ]
    }
   ],
   "source": [
    "def test_decoupe_sequence():\n",
    "    assert decoupe_sequence([\"val1\", \"début\", \"val2\", \"val3\", \"end\", \"val4\", \"fin\", \"begin\", \"val5\", \"fin\", \"val6\"], [\"début\", \"begin\"], [\"fin\", \"end\"]) == [    [\"val2\", \"val3\"],\n",
    "    [\"val5\"]]\n",
    "    assert decoupe_sequence([\"a\", \"b\", \"start\", \"c\", \"end\"], [\"start\", \"deb\"], [\"end\", \"fin\"]) == [[\"c\"]]\n",
    "    print(\"test ok\")\n",
    "    \n",
    "test_decoupe_sequence()"
   ]
  },
  {
   "cell_type": "markdown",
   "id": "612049a7",
   "metadata": {},
   "source": [
    "### Question 3"
   ]
  },
  {
   "cell_type": "code",
   "execution_count": 56,
   "id": "c2df3fc5",
   "metadata": {},
   "outputs": [],
   "source": [
    "def codons_to_seq_codantes(seq, codonaa):\n",
    "    codonsstop = codons_stop(codonaa)\n",
    "    tab = decoupe_sequence(seq, [\"AUG\"], codonsstop)\n",
    "    return tab"
   ]
  },
  {
   "cell_type": "code",
   "execution_count": 57,
   "id": "2c5cb8bf",
   "metadata": {},
   "outputs": [
    {
     "name": "stdout",
     "output_type": "stream",
     "text": [
      "test ok\n"
     ]
    }
   ],
   "source": [
    "def test_codons_to_seq_codantes():\n",
    "    assert codons_to_seq_codantes([\"CGU\", \"UUU\", \"AUG\", \"CGU\", \"AUG\", \"AAU\", \"UAA\", \"AUG\", \"GGG\", \"CCC\",  \"CGU\", \"UAG\", \"GGG\"], codonaa) == [[\"CGU\", \"AUG\", \"AAU\"],[\"GGG\", \"CCC\", \"CGU\"]]\n",
    "    print(\"test ok\")\n",
    "\n",
    "test_codons_to_seq_codantes()"
   ]
  },
  {
   "cell_type": "markdown",
   "id": "0e7b78ff",
   "metadata": {},
   "source": [
    "### Question 4"
   ]
  },
  {
   "cell_type": "code",
   "execution_count": 58,
   "id": "29694900",
   "metadata": {},
   "outputs": [],
   "source": [
    "def seq_codantes_to_seq_aas(seq, codonaa):\n",
    "    tab = []\n",
    "    i = 0\n",
    "    while i < len(seq):\n",
    "        k = seq[i]\n",
    "        j = 0\n",
    "        y = []\n",
    "        while j < len(k):\n",
    "            x = codonaa[k[j]]\n",
    "            y.append(x)\n",
    "            j += 1\n",
    "        tab.append(y)\n",
    "        i += 1\n",
    "    return tab"
   ]
  },
  {
   "cell_type": "code",
   "execution_count": 59,
   "id": "59fed35f",
   "metadata": {},
   "outputs": [
    {
     "name": "stdout",
     "output_type": "stream",
     "text": [
      "test ok\n"
     ]
    }
   ],
   "source": [
    "def test_seq_codantes_to_seq_aas():\n",
    "    assert seq_codantes_to_seq_aas([[\"CGU\", \"AUG\", \"AAU\"],[\"GGG\", \"CCC\", \"CGU\"]], codonaa) == [[\"Arginine\", \"Methionine\", \"Asparagine\"],[\"Glycine\", \"Proline\", \"Arginine\"]]\n",
    "    print(\"test ok\")\n",
    "    \n",
    "test_seq_codantes_to_seq_aas()"
   ]
  },
  {
   "cell_type": "markdown",
   "id": "9359dae8",
   "metadata": {},
   "source": [
    "### Question 5"
   ]
  },
  {
   "cell_type": "code",
   "execution_count": 60,
   "id": "58daf1c4",
   "metadata": {},
   "outputs": [],
   "source": [
    "def adn_encode_molecule(brin, codonaa, seq):\n",
    "    if est_adn(brin):\n",
    "        ARN = arn(brin)\n",
    "        codon = arn_to_codons(ARN)\n",
    "        sequence = codons_to_seq_codantes(codon, codonaa)\n",
    "        aa = seq_codantes_to_seq_aas(sequence, codonaa)\n",
    "        if aa == seq :\n",
    "            return True\n",
    "        else :\n",
    "            return False"
   ]
  },
  {
   "cell_type": "code",
   "execution_count": 61,
   "id": "6b14911b",
   "metadata": {},
   "outputs": [
    {
     "name": "stdout",
     "output_type": "stream",
     "text": [
      "test ok\n"
     ]
    }
   ],
   "source": [
    "def test_adn_encode_molecule():\n",
    "    assert adn_encode_molecule(\"CGTTTTATGCGTATGAATTAAATGGGGCCCCGTTAGGGG\", codonaa, [[\"Arginine\", \"Methionine\", \"Asparagine\"],[\"Glycine\", \"Proline\", \"Arginine\"]]) == True\n",
    "    assert adn_encode_molecule(\"CGTTTTATGCGTATGAATTAAATGGGGCCCCGTTAGGGG\", codonaa, [\"Glycine\", \"Proline\", \"Arginine\"]) == False\n",
    "    print(\"test ok\")\n",
    "    \n",
    "test_adn_encode_molecule()"
   ]
  },
  {
   "cell_type": "code",
   "execution_count": null,
   "id": "e555b372",
   "metadata": {},
   "outputs": [],
   "source": []
  }
 ],
 "metadata": {
  "kernelspec": {
   "display_name": "Python 3 (ipykernel)",
   "language": "python",
   "name": "python3"
  },
  "language_info": {
   "codemirror_mode": {
    "name": "ipython",
    "version": 3
   },
   "file_extension": ".py",
   "mimetype": "text/x-python",
   "name": "python",
   "nbconvert_exporter": "python",
   "pygments_lexer": "ipython3",
   "version": "3.8.11"
  }
 },
 "nbformat": 4,
 "nbformat_minor": 5
}
