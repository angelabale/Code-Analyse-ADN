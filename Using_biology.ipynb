{
 "cells": [
  {
   "cell_type": "markdown",
   "id": "3bc5ad6f",
   "metadata": {},
   "source": [
    "# SAE S01.02"
   ]
  },
  {
   "cell_type": "code",
   "execution_count": 1,
   "id": "37e720f7",
   "metadata": {},
   "outputs": [],
   "source": [
    "from biology import *"
   ]
  },
  {
   "cell_type": "markdown",
   "id": "3e7019ad",
   "metadata": {},
   "source": [
    "## Fonction est_base( )"
   ]
  },
  {
   "cell_type": "markdown",
   "id": "38d30709",
   "metadata": {},
   "source": [
    "Dans cet exemple, nous avons testé la fonction avec la lettre T:"
   ]
  },
  {
   "cell_type": "code",
   "execution_count": 2,
   "id": "f5534074",
   "metadata": {},
   "outputs": [
    {
     "name": "stdout",
     "output_type": "stream",
     "text": [
      "True\n"
     ]
    }
   ],
   "source": [
    "lettre = \"T\"\n",
    "print(est_base(lettre))"
   ]
  },
  {
   "cell_type": "markdown",
   "id": "b0b23329",
   "metadata": {},
   "source": [
    "## Fonction est_adn( )"
   ]
  },
  {
   "cell_type": "markdown",
   "id": "3ad04365",
   "metadata": {},
   "source": [
    "Voici la fonction est_adn avec la trame \"ATGTCAAA\""
   ]
  },
  {
   "cell_type": "code",
   "execution_count": 3,
   "id": "77a5e8c4",
   "metadata": {},
   "outputs": [
    {
     "name": "stdout",
     "output_type": "stream",
     "text": [
      "True\n"
     ]
    }
   ],
   "source": [
    "trame = \"ATGTCAAA\"\n",
    "print(est_adn(trame))"
   ]
  },
  {
   "cell_type": "markdown",
   "id": "2ce42166",
   "metadata": {},
   "source": [
    "## Fonction arn( )"
   ]
  },
  {
   "cell_type": "markdown",
   "id": "0e5618a5",
   "metadata": {},
   "source": [
    "Voici la fonction arn avec la trame \"ATTGCA\". Nous avons stocké le résultat dans la variable arn."
   ]
  },
  {
   "cell_type": "code",
   "execution_count": 4,
   "id": "1e5664be",
   "metadata": {},
   "outputs": [
    {
     "name": "stdout",
     "output_type": "stream",
     "text": [
      "AUUGCA\n"
     ]
    }
   ],
   "source": [
    "trame = \"ATTGCA\"\n",
    "arn = arn(trame)\n",
    "print(arn)"
   ]
  },
  {
   "cell_type": "markdown",
   "id": "6d22771f",
   "metadata": {},
   "source": [
    "## Fonction arn_to_codons( )"
   ]
  },
  {
   "cell_type": "markdown",
   "id": "23baeb23",
   "metadata": {},
   "source": [
    "Avec la variable arn en paramètre, nous avons exécuté la fonction arn_to_codons. Nous avons stocké le résultat dans la variable codons."
   ]
  },
  {
   "cell_type": "code",
   "execution_count": 5,
   "id": "64569c83",
   "metadata": {},
   "outputs": [
    {
     "name": "stdout",
     "output_type": "stream",
     "text": [
      "['AUU', 'GCA']\n"
     ]
    }
   ],
   "source": [
    "codons = arn_to_codons(arn)\n",
    "print(codons)"
   ]
  },
  {
   "cell_type": "markdown",
   "id": "25b17eaf",
   "metadata": {},
   "source": [
    "## Fonction load_dico_codons_aa( )"
   ]
  },
  {
   "cell_type": "markdown",
   "id": "5a139ecd",
   "metadata": {},
   "source": [
    "Dans la variable codonaa se trouve le dictionnaire contenant les données du fichier codons_aa.json grâce à la fonction load_dico_codons_aa"
   ]
  },
  {
   "cell_type": "code",
   "execution_count": 6,
   "id": "fec8261a",
   "metadata": {},
   "outputs": [
    {
     "name": "stdout",
     "output_type": "stream",
     "text": [
      "{'UUU': 'Phenylalanine', 'UUC': 'Phenylalanine', 'UUA': 'Leucine', 'UUG': 'Leucine', 'CUU': 'Leucine', 'CUC': 'Leucine', 'CUA': 'Leucine', 'CUG': 'Leucine', 'AUU': 'Isoleucine', 'AUC': 'Isoleucine', 'AUA': 'Methionine', 'AUG': 'Methionine', 'GUU': 'Valine', 'GUC': 'Valine', 'GUA': 'Valine', 'GUG': 'Valine', 'UCU': 'Serine', 'UCC': 'Serine', 'UCA': 'Serine', 'UCG': 'Serine', 'CCU': 'Proline', 'CCC': 'Proline', 'CCA': 'Proline', 'CCG': 'Proline', 'ACU': 'Threonine', 'ACC': 'Threonine', 'ACA': 'Threonine', 'ACG': 'Threonine', 'GCU': 'Alanine', 'GCC': 'Alanine', 'GCA': 'Alanine', 'GCG': 'Alanine', 'UAU': 'Tyrosine', 'UAC': 'Tyrosine', 'CAU': 'Histidine', 'CAC': 'Histidine', 'CAA': 'Glutamine', 'CAG': 'Glutamine', 'AAU': 'Asparagine', 'AAC': 'Asparagine', 'AAA': 'Lysine', 'AAG': 'Lysine', 'GAU': 'Aspartic acid', 'GAC': 'Aspartic acid', 'GAA': 'Glutamic acid', 'GAG': 'Glutamic acid', 'UGU': 'Cysteine', 'UGC': 'Cysteine', 'UGA': 'Tryptophan', 'UGG': 'Tryptophan', 'CGU': 'Arginine', 'CGC': 'Arginine', 'CGA': 'Arginine', 'CGG': 'Arginine', 'AGU': 'Serine', 'AGC': 'Serine', 'GGU': 'Glycine', 'GGC': 'Glycine', 'GGA': 'Glycine', 'GGG': 'Glycine'}\n"
     ]
    }
   ],
   "source": [
    "codonaa = load_dico_codons_aa(\"./data/codons_aa.json\")\n",
    "print(codonaa)"
   ]
  },
  {
   "cell_type": "markdown",
   "id": "ad075925",
   "metadata": {},
   "source": [
    "## Fonction codons_stop( )"
   ]
  },
  {
   "cell_type": "markdown",
   "id": "e3fb443d",
   "metadata": {},
   "source": [
    "À partir du dictionnaire codonaa et de la fonction codons_stop, nous avons pu trouver les codons stop."
   ]
  },
  {
   "cell_type": "code",
   "execution_count": 7,
   "id": "9ce33f39",
   "metadata": {},
   "outputs": [
    {
     "name": "stdout",
     "output_type": "stream",
     "text": [
      "['AGA', 'AGG', 'UAA', 'UAG']\n"
     ]
    }
   ],
   "source": [
    "print(codons_stop(codonaa))"
   ]
  },
  {
   "cell_type": "markdown",
   "id": "79e9bfa0",
   "metadata": {},
   "source": [
    "## Fonction codons_to_aa( )"
   ]
  },
  {
   "cell_type": "markdown",
   "id": "bf50ef0a",
   "metadata": {},
   "source": [
    "Voici l'utilisation de la fonction codons_to_aa avec la variable codons contenant le résultat de la fonction arn_to_codons et du dictionnaire codonaa initialisé précédemment:"
   ]
  },
  {
   "cell_type": "code",
   "execution_count": 8,
   "id": "aa5abb06",
   "metadata": {},
   "outputs": [
    {
     "name": "stdout",
     "output_type": "stream",
     "text": [
      "['Isoleucine', 'Alanine']\n"
     ]
    }
   ],
   "source": [
    "print(codons_to_aa(codons, codonaa))"
   ]
  },
  {
   "cell_type": "markdown",
   "id": "3ad1245c",
   "metadata": {},
   "source": [
    "## Fonction nextIndice( )"
   ]
  },
  {
   "cell_type": "markdown",
   "id": "435b5789",
   "metadata": {},
   "source": [
    "Voici l'utilisation de la fonction nextIndice avec un exemple:"
   ]
  },
  {
   "cell_type": "code",
   "execution_count": 9,
   "id": "b0f23acd",
   "metadata": {},
   "outputs": [
    {
     "name": "stdout",
     "output_type": "stream",
     "text": [
      "2\n"
     ]
    }
   ],
   "source": [
    "print(nextIndice([\"hi\", \"yes\"], 2, [\"no\", \"how\"]))"
   ]
  },
  {
   "cell_type": "markdown",
   "id": "fd6ba0c7",
   "metadata": {},
   "source": [
    "## Fonction decoupe_sequence( )"
   ]
  },
  {
   "cell_type": "markdown",
   "id": "00b17d64",
   "metadata": {},
   "source": [
    "Voici l'utilisation de la fonction decoupe_sequence avec un exemple:"
   ]
  },
  {
   "cell_type": "code",
   "execution_count": 10,
   "id": "cf6a42c7",
   "metadata": {},
   "outputs": [
    {
     "name": "stdout",
     "output_type": "stream",
     "text": [
      "[['oui', 'non', 'ok'], ['ok']]\n"
     ]
    }
   ],
   "source": [
    "print(decoupe_sequence([\"deb\", \"oui\", \"non\", \"ok\", \"fin\", \"ah\", \"debut\", \"ok\", \"end\"], [\"deb\", \"debut\"], [\"fin\", \"end\"]))"
   ]
  },
  {
   "cell_type": "markdown",
   "id": "3f18264b",
   "metadata": {},
   "source": [
    "## Fonction codons_to_seq_codantes( )"
   ]
  },
  {
   "cell_type": "markdown",
   "id": "5f8b09ae",
   "metadata": {},
   "source": [
    "Voici l'utilisation de la fonction codons_to_seq_codantes avec le tableau donné dans l'énoncé et le dictionnaire initialisé dans la partie 1:"
   ]
  },
  {
   "cell_type": "code",
   "execution_count": 11,
   "id": "fb277151",
   "metadata": {},
   "outputs": [
    {
     "name": "stdout",
     "output_type": "stream",
     "text": [
      "[['CGU', 'AUG', 'AAU'], ['GGG', 'CCC', 'CGU']]\n"
     ]
    }
   ],
   "source": [
    "print(codons_to_seq_codantes([\"CGU\", \"UUU\", \"AUG\", \"CGU\", \"AUG\", \"AAU\", \"UAA\", \"AUG\", \"GGG\", \"CCC\",  \"CGU\", \"UAG\", \"GGG\"], codonaa))"
   ]
  },
  {
   "cell_type": "markdown",
   "id": "11a8a989",
   "metadata": {},
   "source": [
    "## Fonction seq_codantes_to_seq_aas( )"
   ]
  },
  {
   "cell_type": "markdown",
   "id": "63541b67",
   "metadata": {},
   "source": [
    "Voici l'utilisation de la fonction seq_codantes_to_seq_aas avec le tableau donné dans l'énoncé et le dictionnaire utilisé précédemment:"
   ]
  },
  {
   "cell_type": "code",
   "execution_count": 12,
   "id": "f5432e64",
   "metadata": {},
   "outputs": [
    {
     "name": "stdout",
     "output_type": "stream",
     "text": [
      "[['Arginine', 'Methionine', 'Asparagine'], ['Glycine', 'Proline', 'Arginine']]\n"
     ]
    }
   ],
   "source": [
    "print(seq_codantes_to_seq_aas([[\"CGU\", \"AUG\", \"AAU\"],[\"GGG\", \"CCC\", \"CGU\"]], codonaa))"
   ]
  },
  {
   "cell_type": "markdown",
   "id": "57b8ec64",
   "metadata": {},
   "source": [
    "## Fonction adn_encode_molecule( )"
   ]
  },
  {
   "cell_type": "markdown",
   "id": "3b1c57e5",
   "metadata": {},
   "source": [
    "Voici l'utilisation de la fonction adn_encode_molecule avec le brin donné dans l'énoncé, le dictionnaire et la séquence."
   ]
  },
  {
   "cell_type": "code",
   "execution_count": 13,
   "id": "57d3e671",
   "metadata": {},
   "outputs": [
    {
     "name": "stdout",
     "output_type": "stream",
     "text": [
      "True\n"
     ]
    }
   ],
   "source": [
    "print(adn_encode_molecule(\"CGTTTTATGCGTATGAATTAAATGGGGCCCCGTTAGGGG\", codonaa, [[\"Arginine\", \"Methionine\", \"Asparagine\"],[\"Glycine\", \"Proline\", \"Arginine\"]]))"
   ]
  }
 ],
 "metadata": {
  "kernelspec": {
   "display_name": "Python 3 (ipykernel)",
   "language": "python",
   "name": "python3"
  },
  "language_info": {
   "codemirror_mode": {
    "name": "ipython",
    "version": 3
   },
   "file_extension": ".py",
   "mimetype": "text/x-python",
   "name": "python",
   "nbconvert_exporter": "python",
   "pygments_lexer": "ipython3",
   "version": "3.8.11"
  }
 },
 "nbformat": 4,
 "nbformat_minor": 5
}
